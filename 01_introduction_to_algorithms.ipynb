{
  "nbformat": 4,
  "nbformat_minor": 0,
  "metadata": {
    "colab": {
      "provenance": [],
      "authorship_tag": "ABX9TyM2+nxe620aHOrQAAaoWOwy",
      "include_colab_link": true
    },
    "kernelspec": {
      "name": "python3",
      "display_name": "Python 3"
    },
    "language_info": {
      "name": "python"
    }
  },
  "cells": [
    {
      "cell_type": "markdown",
      "metadata": {
        "id": "view-in-github",
        "colab_type": "text"
      },
      "source": [
        "<a href=\"https://colab.research.google.com/github/H20CH3PO2/grokking_algorithms/blob/main/01_introduction_to_algorithms.ipynb\" target=\"_parent\"><img src=\"https://colab.research.google.com/assets/colab-badge.svg\" alt=\"Open In Colab\"/></a>"
      ]
    },
    {
      "cell_type": "code",
      "execution_count": 4,
      "metadata": {
        "colab": {
          "base_uri": "https://localhost:8080/"
        },
        "id": "7Si8G_MuvKFF",
        "outputId": "10ac9417-98be-4b47-b3cb-3ab8108611cb"
      },
      "outputs": [
        {
          "output_type": "stream",
          "name": "stdout",
          "text": [
            "1\n",
            "None\n"
          ]
        }
      ],
      "source": [
        "def binary_search(list, item):\n",
        "  low = 0\n",
        "  high = len(list) - 1\n",
        "\n",
        "  while low <= high:\n",
        "    mid = (low + high)//2\n",
        "    guess = list[mid]\n",
        "    if guess == item:\n",
        "      return mid\n",
        "    if guess > item:\n",
        "      high = mid - 1\n",
        "    else:\n",
        "      low = mid + 1\n",
        "\n",
        "  return None\n",
        "\n",
        "my_list = [1, 3, 5, 7, 9]\n",
        "# test\n",
        "print(binary_search(my_list, 3)) # => 1\n",
        "print(binary_search(my_list, -1)) # => None"
      ]
    }
  ]
}