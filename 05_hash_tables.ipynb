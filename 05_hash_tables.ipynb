{
  "nbformat": 4,
  "nbformat_minor": 0,
  "metadata": {
    "colab": {
      "provenance": [],
      "authorship_tag": "ABX9TyNmV+bjhCflq3zBJEeZSCvT",
      "include_colab_link": true
    },
    "kernelspec": {
      "name": "python3",
      "display_name": "Python 3"
    },
    "language_info": {
      "name": "python"
    }
  },
  "cells": [
    {
      "cell_type": "markdown",
      "metadata": {
        "id": "view-in-github",
        "colab_type": "text"
      },
      "source": [
        "<a href=\"https://colab.research.google.com/github/H20CH3PO2/grokking_algorithms/blob/main/05_hash_tables.ipynb\" target=\"_parent\"><img src=\"https://colab.research.google.com/assets/colab-badge.svg\" alt=\"Open In Colab\"/></a>"
      ]
    },
    {
      "cell_type": "code",
      "execution_count": 5,
      "metadata": {
        "colab": {
          "base_uri": "https://localhost:8080/"
        },
        "id": "U_vAmYeJLSpb",
        "outputId": "6011330d-e32d-4cd0-a4b0-d98b107ace3b"
      },
      "outputs": [
        {
          "output_type": "stream",
          "name": "stdout",
          "text": [
            "Let them vote\n",
            "Let them vote\n",
            "kick them out!\n"
          ]
        }
      ],
      "source": [
        "def check_voter(voted, name):\n",
        "  if voted.get(name):\n",
        "    print(\"kick them out!\")\n",
        "  else:\n",
        "    voted[name] = True\n",
        "    print(\"Let them vote\")\n",
        "\n",
        "\n",
        "voted = {}\n",
        "check_voter(voted, \"tom\")\n",
        "check_voter(voted, \"mike\")\n",
        "check_voter(voted, \"mike\")"
      ]
    }
  ]
}