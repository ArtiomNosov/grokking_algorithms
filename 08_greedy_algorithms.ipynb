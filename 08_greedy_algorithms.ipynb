{
  "nbformat": 4,
  "nbformat_minor": 0,
  "metadata": {
    "colab": {
      "provenance": [],
      "authorship_tag": "ABX9TyOL9HLtDWSp76DLhNJqJJtX",
      "include_colab_link": true
    },
    "kernelspec": {
      "name": "python3",
      "display_name": "Python 3"
    },
    "language_info": {
      "name": "python"
    }
  },
  "cells": [
    {
      "cell_type": "markdown",
      "metadata": {
        "id": "view-in-github",
        "colab_type": "text"
      },
      "source": [
        "<a href=\"https://colab.research.google.com/github/H20CH3PO2/grokking_algorithms/blob/main/08_greedy_algorithms.ipynb\" target=\"_parent\"><img src=\"https://colab.research.google.com/assets/colab-badge.svg\" alt=\"Open In Colab\"/></a>"
      ]
    },
    {
      "cell_type": "code",
      "execution_count": 21,
      "metadata": {
        "colab": {
          "base_uri": "https://localhost:8080/"
        },
        "id": "kfpiwCj-tFji",
        "outputId": "4f46319a-ac4a-4318-9194-7743f4c48134"
      },
      "outputs": [
        {
          "output_type": "stream",
          "name": "stdout",
          "text": [
            "{'ktwo', 'kfive', 'kthree', 'kone'}\n"
          ]
        }
      ],
      "source": [
        "def my_set_covering(states_needed, stations):\n",
        "    final_stations = set()\n",
        "\n",
        "    while states_needed:\n",
        "        best_station = None\n",
        "        states_covered = set()\n",
        "\n",
        "        for station, states_for_station in stations.items():\n",
        "            covered = states_needed & states_for_station\n",
        "            if len(covered) > len(states_covered) and station not in final_stations:\n",
        "                best_station = station\n",
        "                states_covered = covered\n",
        "\n",
        "        if best_station is None:\n",
        "          return None\n",
        "          \n",
        "        states_needed -= states_covered\n",
        "        final_stations.add(best_station)\n",
        "        stations.pop(best_station)\n",
        "\n",
        "    return final_stations\n",
        "\n",
        "\n",
        "states_needed = set([\"mt\", \"wa\", \"or\", \"id\", \"nv\", \"ut\", \"ca\", \"az\"])\n",
        "\n",
        "stations = {}\n",
        "stations[\"kone\"] = set([\"id\", \"nv\", \"ut\"])\n",
        "stations[\"ktwo\"] = set([\"wa\", \"id\", \"mt\"])\n",
        "stations[\"kthree\"] = set([\"or\", \"nv\", \"ca\"])\n",
        "stations[\"kfour\"] = set([\"nv\", \"ut\"])\n",
        "stations[\"kfive\"] = set([\"ca\", \"az\"])\n",
        "\n",
        "\n",
        "print(my_set_covering(states_needed, stations))"
      ]
    }
  ]
}