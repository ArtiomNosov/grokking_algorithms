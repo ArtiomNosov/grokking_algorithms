{
  "nbformat": 4,
  "nbformat_minor": 0,
  "metadata": {
    "colab": {
      "provenance": [],
      "authorship_tag": "ABX9TyPo5hTtsQ/zG6eqYtR1m2Gc",
      "include_colab_link": true
    },
    "kernelspec": {
      "name": "python3",
      "display_name": "Python 3"
    },
    "language_info": {
      "name": "python"
    }
  },
  "cells": [
    {
      "cell_type": "markdown",
      "metadata": {
        "id": "view-in-github",
        "colab_type": "text"
      },
      "source": [
        "<a href=\"https://colab.research.google.com/github/H20CH3PO2/grokking_algorithms/blob/main/07_dijkstras_algorithm.ipynb\" target=\"_parent\"><img src=\"https://colab.research.google.com/assets/colab-badge.svg\" alt=\"Open In Colab\"/></a>"
      ]
    },
    {
      "cell_type": "code",
      "execution_count": 9,
      "metadata": {
        "colab": {
          "base_uri": "https://localhost:8080/"
        },
        "id": "UrdDIAR1eAlh",
        "outputId": "b45576bb-435a-4ab0-a71c-2adf2a32b57c"
      },
      "outputs": [
        {
          "output_type": "stream",
          "name": "stdout",
          "text": [
            "{'a': 5, 'b': 2, 'fin': 6}\n"
          ]
        }
      ],
      "source": [
        "def find_lowest_cost_node(costs, processed):\n",
        "  lowest_cost = float(\"inf\")\n",
        "  lowest_cost_node = None\n",
        "\n",
        "  for node in costs:\n",
        "    cost = costs[node]\n",
        "    if node not in processed and cost < lowest_cost:\n",
        "      lowest_cost = cost \n",
        "      lowest_cost_node = node\n",
        "\n",
        "  return lowest_cost_node\n",
        "\n",
        "\n",
        "def dijkstras_algorithm(graph, costs, parents):\n",
        "  processed = {}\n",
        "  node = find_lowest_cost_node(costs, processed)\n",
        "\n",
        "  while node:\n",
        "    cost = costs[node]\n",
        "    neighbors = graph[node]\n",
        "    for n in neighbors.keys():\n",
        "      new_cost = cost + neighbors[n]\n",
        "      if costs[n] > new_cost:\n",
        "        costs[n] = new_cost \n",
        "        parents[n] = node\n",
        "    \n",
        "    processed[node] = True\n",
        "    node = find_lowest_cost_node(costs, processed)\n",
        "\n",
        "\n",
        "# the graph\n",
        "graph = {}\n",
        "graph[\"start\"] = {}\n",
        "graph[\"start\"][\"a\"] = 6\n",
        "graph[\"start\"][\"b\"] = 2\n",
        "\n",
        "graph[\"a\"] = {}\n",
        "graph[\"a\"][\"fin\"] = 1\n",
        "\n",
        "graph[\"b\"] = {}\n",
        "graph[\"b\"][\"a\"] = 3\n",
        "graph[\"b\"][\"fin\"] = 5\n",
        "\n",
        "graph[\"fin\"] = {}\n",
        "\n",
        "# the costs table\n",
        "infinity = float(\"inf\")\n",
        "costs = {}\n",
        "costs[\"a\"] = 6\n",
        "costs[\"b\"] = 2\n",
        "costs[\"fin\"] = infinity\n",
        "\n",
        "# the parents table\n",
        "parents = {}\n",
        "parents[\"a\"] = \"start\"\n",
        "parents[\"b\"] = \"start\"\n",
        "parents[\"fin\"] = None\n",
        "\n",
        "\n",
        "dijkstras_algorithm(graph, costs, parents)\n",
        "print(costs)"
      ]
    }
  ]
}