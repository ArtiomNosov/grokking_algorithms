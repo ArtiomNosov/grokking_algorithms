{
  "nbformat": 4,
  "nbformat_minor": 0,
  "metadata": {
    "colab": {
      "provenance": [],
      "authorship_tag": "ABX9TyPH7iV+sfJxJvJi/i5ayF+A",
      "include_colab_link": true
    },
    "kernelspec": {
      "name": "python3",
      "display_name": "Python 3"
    },
    "language_info": {
      "name": "python"
    }
  },
  "cells": [
    {
      "cell_type": "markdown",
      "metadata": {
        "id": "view-in-github",
        "colab_type": "text"
      },
      "source": [
        "<a href=\"https://colab.research.google.com/github/H20CH3PO2/grokking_algorithms/blob/main/04_quicksort.ipynb\" target=\"_parent\"><img src=\"https://colab.research.google.com/assets/colab-badge.svg\" alt=\"Open In Colab\"/></a>"
      ]
    },
    {
      "cell_type": "code",
      "execution_count": 4,
      "metadata": {
        "colab": {
          "base_uri": "https://localhost:8080/"
        },
        "id": "IQ_IgJwcFhYA",
        "outputId": "dc869ec4-79bb-48e0-fe16-aa3ae83bc8a1"
      },
      "outputs": [
        {
          "output_type": "stream",
          "name": "stdout",
          "text": [
            "[1, 2, 2, 3, 3, 3, 4, 4, 7]\n"
          ]
        }
      ],
      "source": [
        "def quick_sort(array):\n",
        "  if len(array) < 2:\n",
        "    return array\n",
        "  \n",
        "  pivot = array[0]\n",
        "  less = [i for i in array[1:] if i <= pivot]\n",
        "  greater = [i for i in array[1:] if i > pivot]\n",
        "\n",
        "  return quick_sort(less) + [pivot] + quick_sort(greater)\n",
        "\n",
        "print(quick_sort([4, 3, 7, 2, 3, 4, 1, 2, 3])) "
      ]
    }
  ]
}