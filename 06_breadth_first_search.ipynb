{
  "nbformat": 4,
  "nbformat_minor": 0,
  "metadata": {
    "colab": {
      "provenance": [],
      "authorship_tag": "ABX9TyOyU07Aou/lod+U2JKkZ6NL",
      "include_colab_link": true
    },
    "kernelspec": {
      "name": "python3",
      "display_name": "Python 3"
    },
    "language_info": {
      "name": "python"
    }
  },
  "cells": [
    {
      "cell_type": "markdown",
      "metadata": {
        "id": "view-in-github",
        "colab_type": "text"
      },
      "source": [
        "<a href=\"https://colab.research.google.com/github/H20CH3PO2/grokking_algorithms/blob/main/06_breadth_first_search.ipynb\" target=\"_parent\"><img src=\"https://colab.research.google.com/assets/colab-badge.svg\" alt=\"Open In Colab\"/></a>"
      ]
    },
    {
      "cell_type": "code",
      "execution_count": 10,
      "metadata": {
        "colab": {
          "base_uri": "https://localhost:8080/"
        },
        "id": "ASkyipbsP_uk",
        "outputId": "69a24548-9eb3-46b4-9917-7307d236024b"
      },
      "outputs": [
        {
          "output_type": "stream",
          "name": "stdout",
          "text": [
            "thom\n"
          ]
        },
        {
          "output_type": "execute_result",
          "data": {
            "text/plain": [
              "True"
            ]
          },
          "metadata": {},
          "execution_count": 10
        }
      ],
      "source": [
        "from collections import deque\n",
        "\n",
        "\n",
        "def person_is_seller(name):\n",
        "      return name[-1] == 'm'\n",
        "\n",
        "\n",
        "def breadth_first_search(graph, node, find_f):\n",
        "  search_queue = deque()\n",
        "  search_queue += [node]\n",
        "  searched = {}\n",
        "\n",
        "  while len(search_queue) != 0:\n",
        "    current = search_queue.popleft()\n",
        "    if current in searched:\n",
        "      continue\n",
        "    if find_f(current):\n",
        "      print(current)\n",
        "      return True\n",
        "    search_queue += graph[current]\n",
        "    searched[current] = True\n",
        "\n",
        "  return False\n",
        "\n",
        "\n",
        "graph = {}\n",
        "graph[\"you\"] = [\"alice\", \"bob\", \"claire\"]\n",
        "graph[\"bob\"] = [\"anuj\", \"peggy\"]\n",
        "graph[\"alice\"] = [\"peggy\"]\n",
        "graph[\"claire\"] = [\"thom\", \"jonny\"]\n",
        "graph[\"anuj\"] = []\n",
        "graph[\"peggy\"] = []\n",
        "graph[\"thom\"] = []\n",
        "graph[\"jonny\"] = []\n",
        "\n",
        "breadth_first_search(graph, \"you\", person_is_seller)"
      ]
    }
  ]
}