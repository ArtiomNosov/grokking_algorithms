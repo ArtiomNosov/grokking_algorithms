{
  "nbformat": 4,
  "nbformat_minor": 0,
  "metadata": {
    "colab": {
      "provenance": [],
      "authorship_tag": "ABX9TyPSZuXoxGQeZmOai55Q18Xi",
      "include_colab_link": true
    },
    "kernelspec": {
      "name": "python3",
      "display_name": "Python 3"
    },
    "language_info": {
      "name": "python"
    }
  },
  "cells": [
    {
      "cell_type": "markdown",
      "metadata": {
        "id": "view-in-github",
        "colab_type": "text"
      },
      "source": [
        "<a href=\"https://colab.research.google.com/github/H20CH3PO2/grokking_algorithms/blob/main/09_dynamic_programming.ipynb\" target=\"_parent\"><img src=\"https://colab.research.google.com/assets/colab-badge.svg\" alt=\"Open In Colab\"/></a>"
      ]
    },
    {
      "cell_type": "code",
      "execution_count": 12,
      "metadata": {
        "colab": {
          "base_uri": "https://localhost:8080/"
        },
        "id": "iJTqIFCb_Ct0",
        "outputId": "603c0a66-94e6-4e01-e4d0-d127186ccf73"
      },
      "outputs": [
        {
          "output_type": "stream",
          "name": "stdout",
          "text": [
            "[[0. 0. 0. 0. 0. 0.]\n",
            " [0. 0. 0. 0. 0. 0.]\n",
            " [0. 0. 0. 0. 0. 0.]\n",
            " [0. 0. 0. 0. 0. 0.]\n",
            " [0. 0. 0. 0. 0. 0.]\n",
            " [0. 0. 0. 0. 0. 0.]]\n",
            "[[0. 0. 0. 0. 0. 0.]\n",
            " [0. 1. 1. 1. 1. 1.]\n",
            " [0. 1. 2. 2. 2. 2.]\n",
            " [0. 1. 2. 3. 3. 3.]\n",
            " [0. 1. 2. 3. 3. 3.]\n",
            " [0. 1. 2. 3. 3. 4.]]\n",
            "\n",
            "[[0. 0. 0. 0. 0. 0.]\n",
            " [0. 0. 0. 0. 0. 0.]\n",
            " [0. 0. 0. 0. 0. 0.]\n",
            " [0. 0. 0. 0. 0. 0.]\n",
            " [0. 0. 0. 0. 0. 0.]\n",
            " [0. 0. 0. 0. 0. 0.]]\n",
            "[[0. 0. 0. 0. 0. 0.]\n",
            " [0. 1. 0. 0. 0. 0.]\n",
            " [0. 0. 2. 0. 0. 0.]\n",
            " [0. 0. 0. 3. 0. 0.]\n",
            " [0. 0. 0. 0. 0. 0.]\n",
            " [0. 0. 0. 0. 0. 1.]]\n"
          ]
        }
      ],
      "source": [
        "import numpy as np\n",
        "\n",
        "# 01_longest_common_subsequence\n",
        "dp_table_blue =  [\"b\", \"l\", \"u\", \"e\", \"a\", \"t\"]\n",
        "dp_table_clues = [\"c\", \"l\", \"u\", \"e\", \"s\", \"t\"]\n",
        "dp_table = np.zeros((len(dp_table_blue), len(dp_table_clues))).T\n",
        "print(dp_table)\n",
        "\n",
        "for i in range(len(dp_table_blue)):\n",
        "    for j in range(len(dp_table_clues)):\n",
        "        if dp_table_clues[j] == dp_table_blue[i]:\n",
        "            dp_table[j][i] = dp_table[j-1][i-1] + 1\n",
        "        else:\n",
        "            dp_table[j][i] = max(dp_table[j-1][i], dp_table[j][i-1])\n",
        "\n",
        "print(dp_table)\n",
        "\n",
        "print()\n",
        "\n",
        "# 02_longest_common_substring\n",
        "dp_table_blue =  [\"b\", \"l\", \"u\", \"e\", \"a\", \"t\"]\n",
        "dp_table_clues = [\"c\", \"l\", \"u\", \"e\", \"s\", \"t\"]\n",
        "dp_table = np.zeros((len(dp_table_blue), len(dp_table_clues))).T\n",
        "print(dp_table)\n",
        "\n",
        "for i in range(len(dp_table_blue)):\n",
        "    for j in range(len(dp_table_clues)):\n",
        "        if dp_table_clues[j] == dp_table_blue[i]:\n",
        "            dp_table[j][i] = dp_table[j-1][i-1] + 1\n",
        "        else:\n",
        "            dp_table[j][i] = 0\n",
        "\n",
        "print(dp_table)"
      ]
    }
  ]
}