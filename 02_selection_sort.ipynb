{
  "nbformat": 4,
  "nbformat_minor": 0,
  "metadata": {
    "colab": {
      "provenance": [],
      "authorship_tag": "ABX9TyMruakrL8FHyQdHztX1L+HB",
      "include_colab_link": true
    },
    "kernelspec": {
      "name": "python3",
      "display_name": "Python 3"
    },
    "language_info": {
      "name": "python"
    }
  },
  "cells": [
    {
      "cell_type": "markdown",
      "metadata": {
        "id": "view-in-github",
        "colab_type": "text"
      },
      "source": [
        "<a href=\"https://colab.research.google.com/github/H20CH3PO2/grokking_algorithms/blob/main/02_selection_sort.ipynb\" target=\"_parent\"><img src=\"https://colab.research.google.com/assets/colab-badge.svg\" alt=\"Open In Colab\"/></a>"
      ]
    },
    {
      "cell_type": "code",
      "execution_count": 1,
      "metadata": {
        "colab": {
          "base_uri": "https://localhost:8080/"
        },
        "id": "T-483Ffo8ZC0",
        "outputId": "a1ed0323-d204-4994-cd08-621aa6ed316f"
      },
      "outputs": [
        {
          "output_type": "stream",
          "name": "stdout",
          "text": [
            "[2, 3, 5, 6, 10]\n"
          ]
        }
      ],
      "source": [
        "def find_smallest(arr):\n",
        "  smallest = arr[0]\n",
        "  smallest_index = 0\n",
        "\n",
        "  for i in range(1, len(arr)):\n",
        "      if arr[i] < smallest:\n",
        "        smallest = arr[i]\n",
        "        smallest_index = i\n",
        "  \n",
        "  return smallest_index\n",
        "\n",
        "\n",
        "def selection_sort(arr):\n",
        "  new_arr = []\n",
        "\n",
        "  for i in range(len(arr)):\n",
        "    smallest = find_smallest(arr)\n",
        "    new_arr.append(arr.pop(smallest))\n",
        "\n",
        "  return new_arr\n",
        "\n",
        "\n",
        "print(selection_sort([5, 3, 6, 2, 10]))"
      ]
    }
  ]
}